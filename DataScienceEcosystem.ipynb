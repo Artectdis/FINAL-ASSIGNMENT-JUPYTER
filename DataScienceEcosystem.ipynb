{
 "cells": [
  {
   "cell_type": "markdown",
   "id": "683c894b-4327-4532-ae80-cfb60d8374ab",
   "metadata": {},
   "source": [
    "# Data Science Tools and Ecosystem"
   ]
  },
  {
   "cell_type": "markdown",
   "id": "77d0efae-f9ee-4236-bdaf-780c803c808c",
   "metadata": {},
   "source": [
    "In this notebook, Data Science Tools and Ecosystem are summarized."
   ]
  },
  {
   "cell_type": "markdown",
   "id": "e0b93fc5-fdb8-4438-8c44-e5bfb8cf2378",
   "metadata": {},
   "source": [
    "**Objectives:**\n",
    "* List popular languages for Data Science\n",
    "* List commonly used libraries for Data Science\n",
    "* List three development environment open-source tools for Data Science.\n",
    "* Give examples of evaluating arithmetic expressions in Python"
   ]
  },
  {
   "cell_type": "markdown",
   "id": "267fa986-f896-4f69-8a71-730b84e7c821",
   "metadata": {},
   "source": [
    "Some of the popular languages that Data Scientists use are:\n",
    "1. Python\n",
    "2. R\n",
    "3. SQL\n",
    "4. Julia\n",
    "5. Scala\n",
    "6. Java"
   ]
  },
  {
   "cell_type": "markdown",
   "id": "a59803b7-0eac-43b6-ba04-154cbd63e7ca",
   "metadata": {},
   "source": [
    "Some of the commonly used libraries used by Data Scientists include:\n",
    "1. NumPy\n",
    "2. Pandas\n",
    "3. Matplotlib\n",
    "4. Seaborn\n",
    "5. SciKit-Learn\n",
    "6. TensorFlow\n",
    "7. PyTorch\n",
    "8. Keras"
   ]
  },
  {
   "cell_type": "markdown",
   "id": "5e7df30f-0326-481f-ad79-ee9d7528a088",
   "metadata": {},
   "source": [
    "<div style=\"display: inline-block;\">\n",
    "    \n",
    "|Data Science Tools|\n",
    "|------------------|\n",
    "Jupyter Notebook\n",
    "RStudio\n",
    "Spyder\n",
    "\n",
    "</div>"
   ]
  },
  {
   "cell_type": "markdown",
   "id": "5f451b3c-a1e4-4146-872c-312d15444fa8",
   "metadata": {},
   "source": [
    "### Below are a few examples of evaluating arithmetic expressions in Python"
   ]
  },
  {
   "cell_type": "code",
   "execution_count": 8,
   "id": "fec83c3e-ea84-402b-a937-e38597810796",
   "metadata": {},
   "outputs": [
    {
     "data": {
      "text/plain": [
       "17"
      ]
     },
     "execution_count": 8,
     "metadata": {},
     "output_type": "execute_result"
    }
   ],
   "source": [
    "# This a simple arithmetic expression to mutiply then add integers.\n",
    "(3*4)+5"
   ]
  },
  {
   "cell_type": "code",
   "execution_count": 9,
   "id": "2f58ef02-900f-4611-b791-f04481fac096",
   "metadata": {},
   "outputs": [
    {
     "data": {
      "text/plain": [
       "3.3333333333333335"
      ]
     },
     "execution_count": 9,
     "metadata": {},
     "output_type": "execute_result"
    }
   ],
   "source": [
    "# This will convert 200 minutes to hours by dividing by 60\n",
    "200/60"
   ]
  },
  {
   "cell_type": "markdown",
   "id": "32a62e37-0476-4951-b5f9-f4ebed19aa1b",
   "metadata": {},
   "source": [
    "## Author\n",
    "David"
   ]
  },
  {
   "cell_type": "markdown",
   "id": "3b09e8d3-4be7-46c6-a17c-e7277a12446e",
   "metadata": {},
   "source": [
    " "
   ]
  },
  {
   "cell_type": "markdown",
   "id": "bdd5776e-d38b-4a34-90d6-b3a01408c40e",
   "metadata": {},
   "source": [
    " "
   ]
  },
  {
   "cell_type": "markdown",
   "id": "ac38d2c5-92a7-405b-a542-726640b7ba8b",
   "metadata": {},
   "source": [
    " "
   ]
  },
  {
   "cell_type": "markdown",
   "id": "f99abca7-1cbe-4e73-9254-19e0077fdcf1",
   "metadata": {},
   "source": [
    " "
   ]
  },
  {
   "cell_type": "markdown",
   "id": "e5e08f83-ecf8-4c68-911d-47b396d5050a",
   "metadata": {},
   "source": [
    " "
   ]
  },
  {
   "cell_type": "markdown",
   "id": "65ceb4d1-c4fa-45b4-8b32-68083f12e972",
   "metadata": {},
   "source": [
    " "
   ]
  },
  {
   "cell_type": "markdown",
   "id": "32dcd8ff-b74d-4be7-b429-0ec1e569cb6b",
   "metadata": {},
   "source": [
    " "
   ]
  },
  {
   "cell_type": "markdown",
   "id": "456e4488-3c3a-476a-ae85-0a85a7fac8f0",
   "metadata": {},
   "source": [
    " "
   ]
  },
  {
   "cell_type": "markdown",
   "id": "a8f03660-c4de-4b2c-bc10-be984d085001",
   "metadata": {},
   "source": [
    " "
   ]
  },
  {
   "cell_type": "markdown",
   "id": "aa52c220-405d-40fa-a4fd-b488c2f187d7",
   "metadata": {},
   "source": [
    " "
   ]
  },
  {
   "cell_type": "markdown",
   "id": "5b237c02-49d1-4d5b-9657-3c084e250c3f",
   "metadata": {},
   "source": [
    " "
   ]
  }
 ],
 "metadata": {
  "kernelspec": {
   "display_name": "Python 3 (ipykernel)",
   "language": "python",
   "name": "python3"
  },
  "language_info": {
   "codemirror_mode": {
    "name": "ipython",
    "version": 3
   },
   "file_extension": ".py",
   "mimetype": "text/x-python",
   "name": "python",
   "nbconvert_exporter": "python",
   "pygments_lexer": "ipython3",
   "version": "3.12.4"
  }
 },
 "nbformat": 4,
 "nbformat_minor": 5
}
